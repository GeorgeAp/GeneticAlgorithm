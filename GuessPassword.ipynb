{
 "cells": [
  {
   "cell_type": "markdown",
   "metadata": {},
   "source": [
    "#### In the following password guessing program, Genetic Algorithm is used for the search. GA is very powerful in finding global solutions to many complex optimization problems both linear and nonlinear but has difficulties with integer programs. \n",
    "\n",
    "#### In what follows, a lesson I took from Genetic Algorithm with Python by Clinthon Sheppard and also my own research experience in using GA for solving Mixed Integer Nonlinear Optimization problems from http://www.minlplib.org/ "
   ]
  },
  {
   "cell_type": "code",
   "execution_count": 14,
   "metadata": {},
   "outputs": [
    {
     "name": "stdout",
     "output_type": "stream",
     "text": [
      "W£9vkdQyrw!$Vz C&lY42*t7O\t0\t0:00:00.001000\n",
      "W£9vkdQyrw!$Vz C&2Y42*t7O\t1\t0:00:00.003995\n",
      "W£9vkdQyrw!@Vz C&2Y42*t7O\t2\t0:00:00.007994\n",
      "W£9vkdQyrwm@Vz C&2Y42*t7O\t3\t0:00:00.014985\n",
      "W£9vkdQyrwm@Vz n&2Y42*t7O\t4\t0:00:00.014985\n",
      "W£9vkdQyrwm@Vz n&2Y42*t7-\t5\t0:00:00.015984\n",
      "W£9vkdQyrsm@Vz n&2Y42*t7-\t6\t0:00:00.016983\n",
      "W£9vkdQyrsm@Vz n&2Y42*o7-\t7\t0:00:00.018981\n",
      "W£9vkdQyrsm@Vz n&2Y72*o7-\t8\t0:00:00.019980\n",
      "W£9OkdQyrsm@Vz n&2Y72*o7-\t9\t0:00:00.020979\n",
      "W£9OkdQyrsm@Vz n&2i72*o7-\t10\t0:00:00.020979\n",
      "W£9OkdQyrsm@Vz n&2i7o*o7-\t11\t0:00:00.020979\n",
      "W£9OkdQyrsm@Vz nS2i7o*o7-\t12\t0:00:00.021979\n",
      "W£9OkDQyrsm@Vz nS2i7o*o7-\t13\t0:00:00.023976\n",
      "W£9OkDQyrsm@Vz nS2i7oLo7-\t14\t0:00:00.023976\n",
      "W£9OkDuyrsm@Vz nS2i7oLo7-\t15\t0:00:00.024975\n",
      "W£hOkDuyrsm@Vz nS2i7oLo7-\t16\t0:00:00.028971\n",
      "W£hOkDuyrsm@VzinS2i7oLo7-\t17\t0:00:00.037963\n",
      "W£hOlDuyrsm@VzinS2i7oLo7-\t18\t0:00:00.041959\n",
      "W£hOlDuyrsm@pzinS2i7oLo7-\t19\t0:00:00.044956\n",
      "WThOlDuyrsm@pzinS2i7oLo7-\t20\t0:00:00.044956\n",
      "WThOlDuyrsm@puinS2i7oLo7-\t21\t0:00:00.060941\n",
      " ThOlDuyrsm@puinS2i7oLo7-\t22\t0:00:00.069933\n",
      " ThOlDuyism@puinS2i7oLo7-\t23\t0:00:00.070933\n",
      " ThOlDuyism@puinS2i7oLo^-\t24\t0:00:00.071931\n",
      " ThOlDu.ism@puinS2i7oLo^-\t25\t0:00:00.108901\n"
     ]
    }
   ],
   "source": [
    "import random\n",
    "import datetime\n",
    "\n",
    "# create a gene set for building guesses\n",
    "\n",
    "geneSet = \" 0123456789abcdefghijklmnopqrstuvwxyzABCDEFGHIJKLMNOPQRSTUVWXYZ!* $£&#;:+-_^.@\"\n",
    "target = \" ThOlDu.ism@puinS2i7oLo^-\"\n",
    "\n",
    "# start main program\n",
    "random.seed()\n",
    "startTime = datetime.datetime.now()\n",
    "bestParent = generate_parent(len(target))\n",
    "bestFitness = get_fitness(bestParent)\n",
    "display(bestParent)\n",
    "\n",
    "while True:\n",
    "    child = mutate(bestParent)\n",
    "    childFitness = get_fitness(child)\n",
    "    if bestFitness >= childFitness:\n",
    "        continue\n",
    "    display(child)\n",
    "    if childFitness >= len(bestParent):\n",
    "        break\n",
    "    bestFitness = childFitness\n",
    "    bestParent = child"
   ]
  },
  {
   "cell_type": "code",
   "execution_count": 2,
   "metadata": {},
   "outputs": [],
   "source": [
    "# define a function for generating random string from gene set\n",
    "\n",
    "def generate_parent(length):\n",
    "    genes = []\n",
    "    while len(genes) < length:\n",
    "        sampleSize = min(length - len(genes), len(geneSet))\n",
    "        genes.extend(random.sample(geneSet, sampleSize))\n",
    "    return ''.join(genes)"
   ]
  },
  {
   "cell_type": "code",
   "execution_count": 3,
   "metadata": {},
   "outputs": [],
   "source": [
    "# create a fitness function to calculate the fitness value for each gene (letter)\n",
    "# the fitness value here is the total number of letters in the guess that match \n",
    "# the letter in the same position of the target\n",
    "\n",
    "def get_fitness(guess):\n",
    "    return sum(1 for expected, actual in zip(target, guess) if expected == actual)"
   ]
  },
  {
   "cell_type": "code",
   "execution_count": 4,
   "metadata": {},
   "outputs": [],
   "source": [
    "# create a mutation function to produce new genes\n",
    "def mutate(parent):\n",
    "    index = random.randrange(0, len(parent))\n",
    "    childGenes = list(parent)\n",
    "    newGene, alternate = random.sample(geneSet, 2)\n",
    "    childGenes[index] = alternate \\\n",
    "        if newGene == childGenes[index] \\\n",
    "        else newGene\n",
    "    return ''.join(childGenes)\n",
    "    "
   ]
  },
  {
   "cell_type": "code",
   "execution_count": 5,
   "metadata": {},
   "outputs": [],
   "source": [
    "# this is the display function which outputs the algorithm's progress, the fitness value and elapsed time\n",
    "\n",
    "def display(guess):\n",
    "    timeDiff = datetime.datetime.now() - startTime\n",
    "    fitness = get_fitness(guess)\n",
    "    print(\"{}\\t{}\\t{}\".format(guess, fitness, timeDiff))"
   ]
  }
 ],
 "metadata": {
  "kernelspec": {
   "display_name": "Python 3",
   "language": "python",
   "name": "python3"
  },
  "language_info": {
   "codemirror_mode": {
    "name": "ipython",
    "version": 3
   },
   "file_extension": ".py",
   "mimetype": "text/x-python",
   "name": "python",
   "nbconvert_exporter": "python",
   "pygments_lexer": "ipython3",
   "version": "3.7.2"
  }
 },
 "nbformat": 4,
 "nbformat_minor": 2
}
